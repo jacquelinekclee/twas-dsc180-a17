{
 "cells": [
  {
   "cell_type": "code",
   "execution_count": 2,
   "metadata": {},
   "outputs": [],
   "source": [
    "import pandas as pd\n",
    "from HMM_test import HMM\n",
    "\n",
    "xda = HMM()\n",
    "import os\n",
    "os.chdir('../../..')\n",
    "import warnings\n",
    "warnings.filterwarnings(\"ignore\")\n",
    "import plotly.graph_objects as go\n",
    "import numpy as np"
   ]
  },
  {
   "cell_type": "code",
   "execution_count": 3,
   "metadata": {},
   "outputs": [
    {
     "name": "stdout",
     "output_type": "stream",
     "text": [
      "Start Pipeline:\n",
      "->\n",
      "->\n",
      "->\n",
      "->\n",
      "->\n",
      "->\n",
      "->\n",
      "End Pipeline:\n"
     ]
    },
    {
     "ename": "FileNotFoundError",
     "evalue": "[Errno 2] No such file or directory: '/Users/srikarprayaga/Desktop/intel-capstone-project/outputs/HMM/tables/accuracies.csv'",
     "output_type": "error",
     "traceback": [
      "\u001b[0;31m---------------------------------------------------------------------------\u001b[0m",
      "\u001b[0;31mFileNotFoundError\u001b[0m                         Traceback (most recent call last)",
      "\u001b[0;32m<ipython-input-3-c111458fd8b8>\u001b[0m in \u001b[0;36m<module>\u001b[0;34m\u001b[0m\n\u001b[1;32m     65\u001b[0m     \u001b[0mresults\u001b[0m\u001b[0;34m.\u001b[0m\u001b[0mto_csv\u001b[0m\u001b[0;34m(\u001b[0m\u001b[0;34m'/Users/srikarprayaga/Desktop/intel-capstone-project/outputs/HMM/tables/accuracies.csv'\u001b[0m\u001b[0;34m)\u001b[0m\u001b[0;34m\u001b[0m\u001b[0;34m\u001b[0m\u001b[0m\n\u001b[1;32m     66\u001b[0m \u001b[0;34m\u001b[0m\u001b[0m\n\u001b[0;32m---> 67\u001b[0;31m \u001b[0mtables\u001b[0m\u001b[0;34m(\u001b[0m\u001b[0;34m)\u001b[0m\u001b[0;34m\u001b[0m\u001b[0;34m\u001b[0m\u001b[0m\n\u001b[0m\u001b[1;32m     68\u001b[0m \u001b[0mplots\u001b[0m\u001b[0;34m(\u001b[0m\u001b[0;34m)\u001b[0m\u001b[0;34m\u001b[0m\u001b[0;34m\u001b[0m\u001b[0m\n",
      "\u001b[0;32m<ipython-input-3-c111458fd8b8>\u001b[0m in \u001b[0;36mtables\u001b[0;34m()\u001b[0m\n\u001b[1;32m     63\u001b[0m \u001b[0;32mdef\u001b[0m \u001b[0mtables\u001b[0m\u001b[0;34m(\u001b[0m\u001b[0;34m)\u001b[0m\u001b[0;34m:\u001b[0m\u001b[0;34m\u001b[0m\u001b[0;34m\u001b[0m\u001b[0m\n\u001b[1;32m     64\u001b[0m     \u001b[0mresults\u001b[0m \u001b[0;34m=\u001b[0m \u001b[0mpd\u001b[0m\u001b[0;34m.\u001b[0m\u001b[0mDataFrame\u001b[0m\u001b[0;34m(\u001b[0m\u001b[0mtest\u001b[0m\u001b[0;34m(\u001b[0m\u001b[0;34m)\u001b[0m\u001b[0;34m)\u001b[0m\u001b[0;34m\u001b[0m\u001b[0;34m\u001b[0m\u001b[0m\n\u001b[0;32m---> 65\u001b[0;31m     \u001b[0mresults\u001b[0m\u001b[0;34m.\u001b[0m\u001b[0mto_csv\u001b[0m\u001b[0;34m(\u001b[0m\u001b[0;34m'/Users/srikarprayaga/Desktop/intel-capstone-project/outputs/HMM/tables/accuracies.csv'\u001b[0m\u001b[0;34m)\u001b[0m\u001b[0;34m\u001b[0m\u001b[0;34m\u001b[0m\u001b[0m\n\u001b[0m\u001b[1;32m     66\u001b[0m \u001b[0;34m\u001b[0m\u001b[0m\n\u001b[1;32m     67\u001b[0m \u001b[0mtables\u001b[0m\u001b[0;34m(\u001b[0m\u001b[0;34m)\u001b[0m\u001b[0;34m\u001b[0m\u001b[0;34m\u001b[0m\u001b[0m\n",
      "\u001b[0;32m/opt/anaconda3/lib/python3.8/site-packages/pandas/core/generic.py\u001b[0m in \u001b[0;36mto_csv\u001b[0;34m(self, path_or_buf, sep, na_rep, float_format, columns, header, index, index_label, mode, encoding, compression, quoting, quotechar, line_terminator, chunksize, date_format, doublequote, escapechar, decimal, errors)\u001b[0m\n\u001b[1;32m   3168\u001b[0m             \u001b[0mdecimal\u001b[0m\u001b[0;34m=\u001b[0m\u001b[0mdecimal\u001b[0m\u001b[0;34m,\u001b[0m\u001b[0;34m\u001b[0m\u001b[0;34m\u001b[0m\u001b[0m\n\u001b[1;32m   3169\u001b[0m         )\n\u001b[0;32m-> 3170\u001b[0;31m         \u001b[0mformatter\u001b[0m\u001b[0;34m.\u001b[0m\u001b[0msave\u001b[0m\u001b[0;34m(\u001b[0m\u001b[0;34m)\u001b[0m\u001b[0;34m\u001b[0m\u001b[0;34m\u001b[0m\u001b[0m\n\u001b[0m\u001b[1;32m   3171\u001b[0m \u001b[0;34m\u001b[0m\u001b[0m\n\u001b[1;32m   3172\u001b[0m         \u001b[0;32mif\u001b[0m \u001b[0mpath_or_buf\u001b[0m \u001b[0;32mis\u001b[0m \u001b[0;32mNone\u001b[0m\u001b[0;34m:\u001b[0m\u001b[0;34m\u001b[0m\u001b[0;34m\u001b[0m\u001b[0m\n",
      "\u001b[0;32m/opt/anaconda3/lib/python3.8/site-packages/pandas/io/formats/csvs.py\u001b[0m in \u001b[0;36msave\u001b[0;34m(self)\u001b[0m\n\u001b[1;32m    183\u001b[0m             \u001b[0mclose\u001b[0m \u001b[0;34m=\u001b[0m \u001b[0;32mFalse\u001b[0m\u001b[0;34m\u001b[0m\u001b[0;34m\u001b[0m\u001b[0m\n\u001b[1;32m    184\u001b[0m         \u001b[0;32melse\u001b[0m\u001b[0;34m:\u001b[0m\u001b[0;34m\u001b[0m\u001b[0;34m\u001b[0m\u001b[0m\n\u001b[0;32m--> 185\u001b[0;31m             f, handles = get_handle(\n\u001b[0m\u001b[1;32m    186\u001b[0m                 \u001b[0mself\u001b[0m\u001b[0;34m.\u001b[0m\u001b[0mpath_or_buf\u001b[0m\u001b[0;34m,\u001b[0m\u001b[0;34m\u001b[0m\u001b[0;34m\u001b[0m\u001b[0m\n\u001b[1;32m    187\u001b[0m                 \u001b[0mself\u001b[0m\u001b[0;34m.\u001b[0m\u001b[0mmode\u001b[0m\u001b[0;34m,\u001b[0m\u001b[0;34m\u001b[0m\u001b[0;34m\u001b[0m\u001b[0m\n",
      "\u001b[0;32m/opt/anaconda3/lib/python3.8/site-packages/pandas/io/common.py\u001b[0m in \u001b[0;36mget_handle\u001b[0;34m(path_or_buf, mode, encoding, compression, memory_map, is_text, errors)\u001b[0m\n\u001b[1;32m    491\u001b[0m         \u001b[0;32mif\u001b[0m \u001b[0mencoding\u001b[0m\u001b[0;34m:\u001b[0m\u001b[0;34m\u001b[0m\u001b[0;34m\u001b[0m\u001b[0m\n\u001b[1;32m    492\u001b[0m             \u001b[0;31m# Encoding\u001b[0m\u001b[0;34m\u001b[0m\u001b[0;34m\u001b[0m\u001b[0;34m\u001b[0m\u001b[0m\n\u001b[0;32m--> 493\u001b[0;31m             \u001b[0mf\u001b[0m \u001b[0;34m=\u001b[0m \u001b[0mopen\u001b[0m\u001b[0;34m(\u001b[0m\u001b[0mpath_or_buf\u001b[0m\u001b[0;34m,\u001b[0m \u001b[0mmode\u001b[0m\u001b[0;34m,\u001b[0m \u001b[0mencoding\u001b[0m\u001b[0;34m=\u001b[0m\u001b[0mencoding\u001b[0m\u001b[0;34m,\u001b[0m \u001b[0merrors\u001b[0m\u001b[0;34m=\u001b[0m\u001b[0merrors\u001b[0m\u001b[0;34m,\u001b[0m \u001b[0mnewline\u001b[0m\u001b[0;34m=\u001b[0m\u001b[0;34m\"\"\u001b[0m\u001b[0;34m)\u001b[0m\u001b[0;34m\u001b[0m\u001b[0;34m\u001b[0m\u001b[0m\n\u001b[0m\u001b[1;32m    494\u001b[0m         \u001b[0;32melif\u001b[0m \u001b[0mis_text\u001b[0m\u001b[0;34m:\u001b[0m\u001b[0;34m\u001b[0m\u001b[0;34m\u001b[0m\u001b[0m\n\u001b[1;32m    495\u001b[0m             \u001b[0;31m# No explicit encoding\u001b[0m\u001b[0;34m\u001b[0m\u001b[0;34m\u001b[0m\u001b[0;34m\u001b[0m\u001b[0m\n",
      "\u001b[0;31mFileNotFoundError\u001b[0m: [Errno 2] No such file or directory: '/Users/srikarprayaga/Desktop/intel-capstone-project/outputs/HMM/tables/accuracies.csv'"
     ]
    }
   ],
   "source": [
    "\n",
    "\n",
    "def hmm_predict(train_data, test_data):\n",
    "    num_correct = 0\n",
    "    tp_1=xda.predictor1(train_data, test_data)\n",
    "    predicted_window_sequence = xda.predictor2(train_data, test_data)\n",
    "    for i in range(len(test_data.window) - 1):\n",
    "        if test_data.window.iloc[i] == predicted_window_sequence[i]:\n",
    "            num_correct += 1\n",
    "    tp_2=num_correct / len(test_data)\n",
    "    tp_3=xda.predictor3(train_data, test_data)\n",
    "    return [tp_1,tp_2,tp_3]\n",
    "\n",
    "def test():\n",
    "    print(\"Start Pipeline:\")\n",
    "    print('->')\n",
    "    user='user1'\n",
    "    print('->')\n",
    "    data_us1 = xda.clean_data('/Users/srikarprayaga/Desktop/intel-capstone-project/data/{}_window_data.csv'.format(user),\n",
    "                         \"/Users/srikarprayaga/Desktop/intel-capstone-project/data/{}_immersive_data.csv\".format(user))\n",
    "    print('->')\n",
    "    user='user2'\n",
    "    data_us2 = xda.clean_data('/Users/srikarprayaga/Desktop/intel-capstone-project/data/{}_window_data.csv'.format(user),\n",
    "                            \"/Users/srikarprayaga/Desktop/intel-capstone-project/data/{}_immersive_data.csv\".format(user))\n",
    "    print('->')\n",
    "    train_data_1,test_data_1 = xda.train_test_split(data_us1)\n",
    "    print('->')\n",
    "    train_data_2,test_data_2 = xda.train_test_split(data_us2)\n",
    "    print('->')\n",
    "    accuracy=[hmm_predict(train_data_1,test_data_1)[0],hmm_predict(train_data_2,test_data_2)[0],hmm_predict(train_data_1,test_data_1)[1],hmm_predict(train_data_2,test_data_2)[1],hmm_predict(train_data_1,test_data_1)[2],hmm_predict(train_data_2,test_data_2)[2]]\n",
    "    dict={'Prediction':['Pred1','Pred1','Pred2','Pred2','Pred3','Pred3'],\n",
    "                   'Accuracy':accuracy,\n",
    "                   'User':['User1','User2','User1','User2','User1','User2']}\n",
    "    print('->')\n",
    "    print(\"End Pipeline:\")\n",
    "    return dict\n",
    "\n",
    "def plots():\n",
    "    print(\"Start Plots:\")\n",
    "    print('->')\n",
    "    acc_df=pd.DataFrame(test())\n",
    "    print('->')\n",
    "    user_1=acc_df[acc_df['User']=='User1']\n",
    "    print('->')\n",
    "    user_2=acc_df[acc_df['User']=='User2']\n",
    "    print('->')\n",
    "    fig = go.Figure(data=[go.Bar(x=user_1['Prediction'], y=user_1['Accuracy'],\n",
    "                                marker_color='blue')])\n",
    "    print('->')\n",
    "    fig.update_layout(title='User1 Accuracy per Predictors',\n",
    "                    xaxis_title='Predictors',\n",
    "                    yaxis_title='Accuracy')\n",
    "    print('->')\n",
    "    fig.write_image('/Users/srikarprayaga/Desktop/intel-capstone-project/outputs/HMM/user1_accuracy.png')\n",
    "    figs = go.Figure(data=[go.Bar(x=user_2['Prediction'], y=user_2['Accuracy'],\n",
    "                                marker_color='blue')])\n",
    "    print('->')\n",
    "    figs.update_layout(title='User2 Accuracy per Predictors',\n",
    "                    xaxis_title='Predictors',\n",
    "                    yaxis_title='Accuracy')\n",
    "    print('->')\n",
    "    figs.write_image('/Users/srikarprayaga/Desktop/intel-capstone-project/outputs/HMM/user2_accuracy.png')\n",
    "    print(\"End Plots:\")\n",
    "\n",
    "def tables():\n",
    "    results = pd.DataFrame(test())\n",
    "    results.to_csv('/Users/srikarprayaga/Desktop/intel-capstone-project/outputs/HMM/accuracies.csv')\n",
    "\n",
    "tables()\n",
    "plots()"
   ]
  },
  {
   "cell_type": "code",
   "execution_count": 15,
   "metadata": {},
   "outputs": [
    {
     "name": "stdout",
     "output_type": "stream",
     "text": [
      "Collecting kaleido\n",
      "  Downloading kaleido-0.2.1-py2.py3-none-macosx_10_11_x86_64.whl (85.2 MB)\n",
      "\u001b[K     |████████████████████████████████| 85.2 MB 5.6 MB/s eta 0:00:01\n",
      "\u001b[?25hInstalling collected packages: kaleido\n",
      "Successfully installed kaleido-0.2.1\n"
     ]
    }
   ],
   "source": [
    "!pip install kaleido"
   ]
  },
  {
   "cell_type": "code",
   "execution_count": 12,
   "metadata": {},
   "outputs": [
    {
     "data": {
      "text/html": [
       "<div>\n",
       "<style scoped>\n",
       "    .dataframe tbody tr th:only-of-type {\n",
       "        vertical-align: middle;\n",
       "    }\n",
       "\n",
       "    .dataframe tbody tr th {\n",
       "        vertical-align: top;\n",
       "    }\n",
       "\n",
       "    .dataframe thead th {\n",
       "        text-align: right;\n",
       "    }\n",
       "</style>\n",
       "<table border=\"1\" class=\"dataframe\">\n",
       "  <thead>\n",
       "    <tr style=\"text-align: right;\">\n",
       "      <th></th>\n",
       "      <th>Prediction</th>\n",
       "      <th>Accuracy</th>\n",
       "      <th>User</th>\n",
       "    </tr>\n",
       "  </thead>\n",
       "  <tbody>\n",
       "    <tr>\n",
       "      <th>0</th>\n",
       "      <td>Pred1</td>\n",
       "      <td>0.652174</td>\n",
       "      <td>User1</td>\n",
       "    </tr>\n",
       "    <tr>\n",
       "      <th>1</th>\n",
       "      <td>Pred1</td>\n",
       "      <td>0.862500</td>\n",
       "      <td>User2</td>\n",
       "    </tr>\n",
       "    <tr>\n",
       "      <th>2</th>\n",
       "      <td>Pred2</td>\n",
       "      <td>0.166667</td>\n",
       "      <td>User1</td>\n",
       "    </tr>\n",
       "    <tr>\n",
       "      <th>3</th>\n",
       "      <td>Pred2</td>\n",
       "      <td>0.555556</td>\n",
       "      <td>User2</td>\n",
       "    </tr>\n",
       "    <tr>\n",
       "      <th>4</th>\n",
       "      <td>Pred3</td>\n",
       "      <td>0.173913</td>\n",
       "      <td>User1</td>\n",
       "    </tr>\n",
       "    <tr>\n",
       "      <th>5</th>\n",
       "      <td>Pred3</td>\n",
       "      <td>0.250000</td>\n",
       "      <td>User2</td>\n",
       "    </tr>\n",
       "  </tbody>\n",
       "</table>\n",
       "</div>"
      ],
      "text/plain": [
       "  Prediction  Accuracy   User\n",
       "0      Pred1  0.652174  User1\n",
       "1      Pred1  0.862500  User2\n",
       "2      Pred2  0.166667  User1\n",
       "3      Pred2  0.555556  User2\n",
       "4      Pred3  0.173913  User1\n",
       "5      Pred3  0.250000  User2"
      ]
     },
     "execution_count": 12,
     "metadata": {},
     "output_type": "execute_result"
    }
   ],
   "source": [
    "acc_df=pd.DataFrame(acc_df)"
   ]
  },
  {
   "cell_type": "code",
   "execution_count": null,
   "metadata": {},
   "outputs": [],
   "source": []
  }
 ],
 "metadata": {
  "interpreter": {
   "hash": "40d3a090f54c6569ab1632332b64b2c03c39dcf918b08424e98f38b5ae0af88f"
  },
  "kernelspec": {
   "display_name": "Python 3.8.5 ('base')",
   "language": "python",
   "name": "python3"
  },
  "language_info": {
   "codemirror_mode": {
    "name": "ipython",
    "version": 3
   },
   "file_extension": ".py",
   "mimetype": "text/x-python",
   "name": "python",
   "nbconvert_exporter": "python",
   "pygments_lexer": "ipython3",
   "version": "3.8.5"
  },
  "orig_nbformat": 4
 },
 "nbformat": 4,
 "nbformat_minor": 2
}
